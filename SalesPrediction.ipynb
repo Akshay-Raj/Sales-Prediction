{
 "cells": [
  {
   "cell_type": "markdown",
   "metadata": {},
   "source": [
    "# Prediction of Sales Transactions\n",
    "\n",
    "\n",
    "### Import all the necessary libraries and packages"
   ]
  },
  {
   "cell_type": "code",
   "execution_count": 1,
   "metadata": {},
   "outputs": [],
   "source": [
    "import pandas as pd\n",
    "import numpy as np\n",
    "import matplotlib.pyplot as plt\n",
    "import seaborn as sns\n",
    "%matplotlib inline\n",
    "from sklearn.ensemble import RandomForestRegressor\n",
    "from sklearn.datasets import make_regression\n",
    "from sklearn.model_selection import GridSearchCV\n",
    "from sklearn.linear_model import LinearRegression\n",
    "from sklearn.linear_model import LogisticRegression\n",
    "from sklearn.linear_model import Lasso\n",
    "from sklearn.linear_model import ElasticNet\n",
    "from sklearn.tree import DecisionTreeRegressor\n",
    "from sklearn.neighbors import KNeighborsRegressor\n",
    "from sklearn.ensemble import GradientBoostingRegressor\n",
    "from sklearn.pipeline import Pipeline\n",
    "from sklearn.preprocessing import StandardScaler\n",
    "from sklearn.preprocessing import LabelEncoder\n",
    "from sklearn import datasets\n",
    "import ast\n",
    "from sklearn.feature_selection import RFE\n",
    "from sklearn.model_selection import train_test_split\n",
    "from sklearn.model_selection import cross_val_score\n",
    "from sklearn.model_selection import KFold\n",
    "from sklearn.metrics import accuracy_score\n",
    "from sklearn.metrics import mean_absolute_error\n",
    "from sklearn.metrics import mean_squared_error\n",
    "from sklearn.metrics import r2_score"
   ]
  },
  {
   "cell_type": "markdown",
   "metadata": {},
   "source": [
    "### Load the data from the data source and analyze it"
   ]
  },
  {
   "cell_type": "code",
   "execution_count": 2,
   "metadata": {},
   "outputs": [
    {
     "data": {
      "text/html": [
       "<div>\n",
       "<style scoped>\n",
       "    .dataframe tbody tr th:only-of-type {\n",
       "        vertical-align: middle;\n",
       "    }\n",
       "\n",
       "    .dataframe tbody tr th {\n",
       "        vertical-align: top;\n",
       "    }\n",
       "\n",
       "    .dataframe thead th {\n",
       "        text-align: right;\n",
       "    }\n",
       "</style>\n",
       "<table border=\"1\" class=\"dataframe\">\n",
       "  <thead>\n",
       "    <tr style=\"text-align: right;\">\n",
       "      <th></th>\n",
       "      <th>user_id</th>\n",
       "      <th>user_id_type</th>\n",
       "      <th>cart_id</th>\n",
       "      <th>date_modified</th>\n",
       "      <th>currency</th>\n",
       "      <th>unit_price</th>\n",
       "      <th>net_price</th>\n",
       "      <th>discountpercent</th>\n",
       "      <th>recurring_unit_price</th>\n",
       "      <th>recurring_net_price</th>\n",
       "      <th>recurring_discountpercent</th>\n",
       "      <th>quantity</th>\n",
       "      <th>product_system_id</th>\n",
       "      <th>deal_type</th>\n",
       "      <th>opportunity_region</th>\n",
       "      <th>opportunity_budget</th>\n",
       "      <th>contract_term</th>\n",
       "      <th>total_contract_value</th>\n",
       "      <th>deal_category</th>\n",
       "    </tr>\n",
       "  </thead>\n",
       "  <tbody>\n",
       "    <tr>\n",
       "      <th>0</th>\n",
       "      <td>525</td>\n",
       "      <td>8477949227256649820</td>\n",
       "      <td>525-1</td>\n",
       "      <td>02/22/2017 03:30:01.050000</td>\n",
       "      <td>GBP</td>\n",
       "      <td>0.0</td>\n",
       "      <td>0.0</td>\n",
       "      <td>0.0</td>\n",
       "      <td>0.000000</td>\n",
       "      <td>0.000000</td>\n",
       "      <td>0.0</td>\n",
       "      <td>78.0</td>\n",
       "      <td>1789161784535801413</td>\n",
       "      <td>Renewal</td>\n",
       "      <td>UK&amp;I</td>\n",
       "      <td>\"Less than 1</td>\n",
       "      <td>0.0</td>\n",
       "      <td>12</td>\n",
       "      <td>-1575416002466453954</td>\n",
       "    </tr>\n",
       "    <tr>\n",
       "      <th>1</th>\n",
       "      <td>525</td>\n",
       "      <td>8477949227256649820</td>\n",
       "      <td>525-1</td>\n",
       "      <td>02/22/2017 03:30:01.050000</td>\n",
       "      <td>GBP</td>\n",
       "      <td>0.0</td>\n",
       "      <td>0.0</td>\n",
       "      <td>0.0</td>\n",
       "      <td>6.923077</td>\n",
       "      <td>6.923077</td>\n",
       "      <td>0.0</td>\n",
       "      <td>78.0</td>\n",
       "      <td>-3388033280723878524</td>\n",
       "      <td>Renewal</td>\n",
       "      <td>UK&amp;I</td>\n",
       "      <td>\"Less than 1</td>\n",
       "      <td>0.0</td>\n",
       "      <td>12</td>\n",
       "      <td>-1575416002466453954</td>\n",
       "    </tr>\n",
       "    <tr>\n",
       "      <th>2</th>\n",
       "      <td>525</td>\n",
       "      <td>8477949227256649820</td>\n",
       "      <td>525-1</td>\n",
       "      <td>02/22/2017 03:30:01.050000</td>\n",
       "      <td>GBP</td>\n",
       "      <td>0.0</td>\n",
       "      <td>0.0</td>\n",
       "      <td>0.0</td>\n",
       "      <td>0.000000</td>\n",
       "      <td>0.000000</td>\n",
       "      <td>0.0</td>\n",
       "      <td>8.0</td>\n",
       "      <td>-9130972624394922538</td>\n",
       "      <td>Renewal</td>\n",
       "      <td>UK&amp;I</td>\n",
       "      <td>\"Less than 1</td>\n",
       "      <td>0.0</td>\n",
       "      <td>12</td>\n",
       "      <td>-1575416002466453954</td>\n",
       "    </tr>\n",
       "    <tr>\n",
       "      <th>3</th>\n",
       "      <td>525</td>\n",
       "      <td>8477949227256649820</td>\n",
       "      <td>525-1</td>\n",
       "      <td>02/22/2017 03:30:01.050000</td>\n",
       "      <td>GBP</td>\n",
       "      <td>0.0</td>\n",
       "      <td>0.0</td>\n",
       "      <td>0.0</td>\n",
       "      <td>187.500000</td>\n",
       "      <td>187.500000</td>\n",
       "      <td>0.0</td>\n",
       "      <td>8.0</td>\n",
       "      <td>2739638421988212911</td>\n",
       "      <td>Renewal</td>\n",
       "      <td>UK&amp;I</td>\n",
       "      <td>\"Less than 1</td>\n",
       "      <td>0.0</td>\n",
       "      <td>12</td>\n",
       "      <td>-1575416002466453954</td>\n",
       "    </tr>\n",
       "    <tr>\n",
       "      <th>4</th>\n",
       "      <td>525</td>\n",
       "      <td>8477949227256649820</td>\n",
       "      <td>525-1</td>\n",
       "      <td>02/22/2017 03:30:01.050000</td>\n",
       "      <td>GBP</td>\n",
       "      <td>0.0</td>\n",
       "      <td>0.0</td>\n",
       "      <td>0.0</td>\n",
       "      <td>0.000000</td>\n",
       "      <td>0.000000</td>\n",
       "      <td>0.0</td>\n",
       "      <td>8.0</td>\n",
       "      <td>-6185560453609870674</td>\n",
       "      <td>Renewal</td>\n",
       "      <td>UK&amp;I</td>\n",
       "      <td>\"Less than 1</td>\n",
       "      <td>0.0</td>\n",
       "      <td>12</td>\n",
       "      <td>-1575416002466453954</td>\n",
       "    </tr>\n",
       "  </tbody>\n",
       "</table>\n",
       "</div>"
      ],
      "text/plain": [
       "   user_id         user_id_type cart_id               date_modified currency  \\\n",
       "0      525  8477949227256649820   525-1  02/22/2017 03:30:01.050000      GBP   \n",
       "1      525  8477949227256649820   525-1  02/22/2017 03:30:01.050000      GBP   \n",
       "2      525  8477949227256649820   525-1  02/22/2017 03:30:01.050000      GBP   \n",
       "3      525  8477949227256649820   525-1  02/22/2017 03:30:01.050000      GBP   \n",
       "4      525  8477949227256649820   525-1  02/22/2017 03:30:01.050000      GBP   \n",
       "\n",
       "   unit_price  net_price  discountpercent  recurring_unit_price  \\\n",
       "0         0.0        0.0              0.0              0.000000   \n",
       "1         0.0        0.0              0.0              6.923077   \n",
       "2         0.0        0.0              0.0              0.000000   \n",
       "3         0.0        0.0              0.0            187.500000   \n",
       "4         0.0        0.0              0.0              0.000000   \n",
       "\n",
       "   recurring_net_price  recurring_discountpercent  quantity  \\\n",
       "0             0.000000                        0.0      78.0   \n",
       "1             6.923077                        0.0      78.0   \n",
       "2             0.000000                        0.0       8.0   \n",
       "3           187.500000                        0.0       8.0   \n",
       "4             0.000000                        0.0       8.0   \n",
       "\n",
       "     product_system_id deal_type opportunity_region opportunity_budget  \\\n",
       "0  1789161784535801413   Renewal               UK&I       \"Less than 1   \n",
       "1 -3388033280723878524   Renewal               UK&I       \"Less than 1   \n",
       "2 -9130972624394922538   Renewal               UK&I       \"Less than 1   \n",
       "3  2739638421988212911   Renewal               UK&I       \"Less than 1   \n",
       "4 -6185560453609870674   Renewal               UK&I       \"Less than 1   \n",
       "\n",
       "   contract_term total_contract_value        deal_category  \n",
       "0            0.0                   12 -1575416002466453954  \n",
       "1            0.0                   12 -1575416002466453954  \n",
       "2            0.0                   12 -1575416002466453954  \n",
       "3            0.0                   12 -1575416002466453954  \n",
       "4            0.0                   12 -1575416002466453954  "
      ]
     },
     "execution_count": 2,
     "metadata": {},
     "output_type": "execute_result"
    }
   ],
   "source": [
    "df = pd.read_csv('./sales_data.csv')\n",
    "df.head()"
   ]
  },
  {
   "cell_type": "markdown",
   "metadata": {},
   "source": [
    "### Count the number of NaN or 0's for each column in DataFrame"
   ]
  },
  {
   "cell_type": "code",
   "execution_count": 3,
   "metadata": {},
   "outputs": [
    {
     "data": {
      "text/plain": [
       "user_id                      0\n",
       "user_id_type                 0\n",
       "cart_id                      0\n",
       "date_modified                0\n",
       "currency                     0\n",
       "unit_price                   0\n",
       "net_price                    0\n",
       "discountpercent              0\n",
       "recurring_unit_price         0\n",
       "recurring_net_price          0\n",
       "recurring_discountpercent    0\n",
       "quantity                     0\n",
       "product_system_id            0\n",
       "deal_type                    0\n",
       "opportunity_region           0\n",
       "opportunity_budget           0\n",
       "contract_term                0\n",
       "total_contract_value         0\n",
       "deal_category                0\n",
       "dtype: int64"
      ]
     },
     "execution_count": 3,
     "metadata": {},
     "output_type": "execute_result"
    }
   ],
   "source": [
    "df.isnull().sum()"
   ]
  },
  {
   "cell_type": "markdown",
   "metadata": {},
   "source": [
    "### Compute the length of unique elemenst for each column"
   ]
  },
  {
   "cell_type": "code",
   "execution_count": 4,
   "metadata": {},
   "outputs": [
    {
     "name": "stdout",
     "output_type": "stream",
     "text": [
      "user_id 557\n",
      "user_id_type 21\n",
      "cart_id 23884\n",
      "date_modified 23884\n",
      "currency 7\n",
      "unit_price 3801\n",
      "net_price 4687\n",
      "discountpercent 2315\n",
      "recurring_unit_price 3644\n",
      "recurring_net_price 3663\n",
      "recurring_discountpercent 426\n",
      "quantity 944\n",
      "product_system_id 275\n",
      "deal_type 4\n",
      "opportunity_region 4\n",
      "opportunity_budget 103\n",
      "contract_term 90\n",
      "total_contract_value 364\n",
      "deal_category 12\n"
     ]
    }
   ],
   "source": [
    "for col in df:\n",
    "    print(col, len(df[col].unique()))"
   ]
  },
  {
   "cell_type": "markdown",
   "metadata": {},
   "source": [
    "## Data Cleaning and Feature Selection\n",
    "\n",
    "### Omitting the user_id, user_id_type and cart_id from the data as it wont be necessary to predict the discounts"
   ]
  },
  {
   "cell_type": "code",
   "execution_count": null,
   "metadata": {},
   "outputs": [
    {
     "data": {
      "text/html": [
       "<div>\n",
       "<style scoped>\n",
       "    .dataframe tbody tr th:only-of-type {\n",
       "        vertical-align: middle;\n",
       "    }\n",
       "\n",
       "    .dataframe tbody tr th {\n",
       "        vertical-align: top;\n",
       "    }\n",
       "\n",
       "    .dataframe thead th {\n",
       "        text-align: right;\n",
       "    }\n",
       "</style>\n",
       "<table border=\"1\" class=\"dataframe\">\n",
       "  <thead>\n",
       "    <tr style=\"text-align: right;\">\n",
       "      <th></th>\n",
       "      <th>date_modified</th>\n",
       "      <th>currency</th>\n",
       "      <th>unit_price</th>\n",
       "      <th>net_price</th>\n",
       "      <th>discountpercent</th>\n",
       "      <th>recurring_unit_price</th>\n",
       "      <th>recurring_net_price</th>\n",
       "      <th>recurring_discountpercent</th>\n",
       "      <th>quantity</th>\n",
       "      <th>product_system_id</th>\n",
       "      <th>deal_type</th>\n",
       "      <th>opportunity_region</th>\n",
       "      <th>opportunity_budget</th>\n",
       "      <th>contract_term</th>\n",
       "      <th>total_contract_value</th>\n",
       "      <th>deal_category</th>\n",
       "    </tr>\n",
       "  </thead>\n",
       "  <tbody>\n",
       "    <tr>\n",
       "      <th>0</th>\n",
       "      <td>02/22/2017 03:30:01.050000</td>\n",
       "      <td>GBP</td>\n",
       "      <td>0.0</td>\n",
       "      <td>0.0</td>\n",
       "      <td>0.0</td>\n",
       "      <td>0.000000</td>\n",
       "      <td>0.000000</td>\n",
       "      <td>0.0</td>\n",
       "      <td>78.0</td>\n",
       "      <td>1789161784535801413</td>\n",
       "      <td>Renewal</td>\n",
       "      <td>UK&amp;I</td>\n",
       "      <td>\"Less than 1</td>\n",
       "      <td>0.0</td>\n",
       "      <td>12</td>\n",
       "      <td>-1575416002466453954</td>\n",
       "    </tr>\n",
       "    <tr>\n",
       "      <th>1</th>\n",
       "      <td>02/22/2017 03:30:01.050000</td>\n",
       "      <td>GBP</td>\n",
       "      <td>0.0</td>\n",
       "      <td>0.0</td>\n",
       "      <td>0.0</td>\n",
       "      <td>6.923077</td>\n",
       "      <td>6.923077</td>\n",
       "      <td>0.0</td>\n",
       "      <td>78.0</td>\n",
       "      <td>-3388033280723878524</td>\n",
       "      <td>Renewal</td>\n",
       "      <td>UK&amp;I</td>\n",
       "      <td>\"Less than 1</td>\n",
       "      <td>0.0</td>\n",
       "      <td>12</td>\n",
       "      <td>-1575416002466453954</td>\n",
       "    </tr>\n",
       "    <tr>\n",
       "      <th>2</th>\n",
       "      <td>02/22/2017 03:30:01.050000</td>\n",
       "      <td>GBP</td>\n",
       "      <td>0.0</td>\n",
       "      <td>0.0</td>\n",
       "      <td>0.0</td>\n",
       "      <td>0.000000</td>\n",
       "      <td>0.000000</td>\n",
       "      <td>0.0</td>\n",
       "      <td>8.0</td>\n",
       "      <td>-9130972624394922538</td>\n",
       "      <td>Renewal</td>\n",
       "      <td>UK&amp;I</td>\n",
       "      <td>\"Less than 1</td>\n",
       "      <td>0.0</td>\n",
       "      <td>12</td>\n",
       "      <td>-1575416002466453954</td>\n",
       "    </tr>\n",
       "    <tr>\n",
       "      <th>3</th>\n",
       "      <td>02/22/2017 03:30:01.050000</td>\n",
       "      <td>GBP</td>\n",
       "      <td>0.0</td>\n",
       "      <td>0.0</td>\n",
       "      <td>0.0</td>\n",
       "      <td>187.500000</td>\n",
       "      <td>187.500000</td>\n",
       "      <td>0.0</td>\n",
       "      <td>8.0</td>\n",
       "      <td>2739638421988212911</td>\n",
       "      <td>Renewal</td>\n",
       "      <td>UK&amp;I</td>\n",
       "      <td>\"Less than 1</td>\n",
       "      <td>0.0</td>\n",
       "      <td>12</td>\n",
       "      <td>-1575416002466453954</td>\n",
       "    </tr>\n",
       "    <tr>\n",
       "      <th>4</th>\n",
       "      <td>02/22/2017 03:30:01.050000</td>\n",
       "      <td>GBP</td>\n",
       "      <td>0.0</td>\n",
       "      <td>0.0</td>\n",
       "      <td>0.0</td>\n",
       "      <td>0.000000</td>\n",
       "      <td>0.000000</td>\n",
       "      <td>0.0</td>\n",
       "      <td>8.0</td>\n",
       "      <td>-6185560453609870674</td>\n",
       "      <td>Renewal</td>\n",
       "      <td>UK&amp;I</td>\n",
       "      <td>\"Less than 1</td>\n",
       "      <td>0.0</td>\n",
       "      <td>12</td>\n",
       "      <td>-1575416002466453954</td>\n",
       "    </tr>\n",
       "  </tbody>\n",
       "</table>\n",
       "</div>"
      ],
      "text/plain": [
       "                date_modified currency  unit_price  net_price  \\\n",
       "0  02/22/2017 03:30:01.050000      GBP         0.0        0.0   \n",
       "1  02/22/2017 03:30:01.050000      GBP         0.0        0.0   \n",
       "2  02/22/2017 03:30:01.050000      GBP         0.0        0.0   \n",
       "3  02/22/2017 03:30:01.050000      GBP         0.0        0.0   \n",
       "4  02/22/2017 03:30:01.050000      GBP         0.0        0.0   \n",
       "\n",
       "   discountpercent  recurring_unit_price  recurring_net_price  \\\n",
       "0              0.0              0.000000             0.000000   \n",
       "1              0.0              6.923077             6.923077   \n",
       "2              0.0              0.000000             0.000000   \n",
       "3              0.0            187.500000           187.500000   \n",
       "4              0.0              0.000000             0.000000   \n",
       "\n",
       "   recurring_discountpercent  quantity    product_system_id deal_type  \\\n",
       "0                        0.0      78.0  1789161784535801413   Renewal   \n",
       "1                        0.0      78.0 -3388033280723878524   Renewal   \n",
       "2                        0.0       8.0 -9130972624394922538   Renewal   \n",
       "3                        0.0       8.0  2739638421988212911   Renewal   \n",
       "4                        0.0       8.0 -6185560453609870674   Renewal   \n",
       "\n",
       "  opportunity_region opportunity_budget  contract_term total_contract_value  \\\n",
       "0               UK&I       \"Less than 1            0.0                   12   \n",
       "1               UK&I       \"Less than 1            0.0                   12   \n",
       "2               UK&I       \"Less than 1            0.0                   12   \n",
       "3               UK&I       \"Less than 1            0.0                   12   \n",
       "4               UK&I       \"Less than 1            0.0                   12   \n",
       "\n",
       "         deal_category  \n",
       "0 -1575416002466453954  \n",
       "1 -1575416002466453954  \n",
       "2 -1575416002466453954  \n",
       "3 -1575416002466453954  \n",
       "4 -1575416002466453954  "
      ]
     },
     "execution_count": 5,
     "metadata": {},
     "output_type": "execute_result"
    }
   ],
   "source": [
    "df_new= df.iloc[:,3:]\n",
    "df_new.head()"
   ]
  },
  {
   "cell_type": "markdown",
   "metadata": {},
   "source": [
    "### Fetch only the day from date_modified column"
   ]
  },
  {
   "cell_type": "code",
   "execution_count": null,
   "metadata": {},
   "outputs": [],
   "source": [
    "df_new['date'] = '02/22/2017 03:30:01.050000'\n",
    "df_new['days'] =  pd.DatetimeIndex(df_new['date_modified']) - pd.DatetimeIndex(df_new['date'])\n",
    "df_new['days'] = df_new['days'].dt.days"
   ]
  },
  {
   "cell_type": "markdown",
   "metadata": {},
   "source": [
    "### Identify the columns that require Label Encoding i.e df_cat"
   ]
  },
  {
   "cell_type": "code",
   "execution_count": null,
   "metadata": {},
   "outputs": [],
   "source": [
    "df_cat = df_new[['currency','product_system_id','deal_type','opportunity_region','opportunity_budget','deal_category']]\n",
    "df_cont = df_new[['unit_price','net_price','discountpercent','recurring_unit_price','recurring_net_price','recurring_discountpercent','quantity','contract_term','total_contract_value']]"
   ]
  },
  {
   "cell_type": "markdown",
   "metadata": {},
   "source": [
    "### Apply the Label Encoding so that all the categorical data are represented in numerical fashion"
   ]
  },
  {
   "cell_type": "code",
   "execution_count": null,
   "metadata": {
    "scrolled": true
   },
   "outputs": [],
   "source": [
    "df_cat = df_cat.apply(LabelEncoder().fit_transform)"
   ]
  },
  {
   "cell_type": "markdown",
   "metadata": {},
   "source": [
    "### Concatenate the encoded data with already existed data"
   ]
  },
  {
   "cell_type": "code",
   "execution_count": null,
   "metadata": {},
   "outputs": [],
   "source": [
    "df_processed = pd.concat([df_cat, df_cont, df_new['days']], axis=1)"
   ]
  },
  {
   "cell_type": "code",
   "execution_count": null,
   "metadata": {},
   "outputs": [],
   "source": [
    "df_processed['total_contract_value'] = df_cont['total_contract_value'].apply(lambda x : ast.literal_eval(x.replace(\"\\\"\", \"\")))"
   ]
  },
  {
   "cell_type": "markdown",
   "metadata": {},
   "source": [
    "### Analyzing the feature selection by plotting seaborn heatmap"
   ]
  },
  {
   "cell_type": "code",
   "execution_count": null,
   "metadata": {},
   "outputs": [],
   "source": [
    "plt.figure(figsize =(15,15))\n",
    "sns.heatmap(df_processed.corr(method='pearson'), \n",
    "            xticklabels=df_processed.columns,\n",
    "            yticklabels=df_processed.columns, annot=True)"
   ]
  },
  {
   "cell_type": "markdown",
   "metadata": {},
   "source": [
    "### Using seaborn pearson heatmap plot, the columns 'opportunity_budget' and 'contract_term' seems to be less correlated with the target 'discountpercent'. So drop the above columns for accuracy and efficiency."
   ]
  },
  {
   "cell_type": "code",
   "execution_count": null,
   "metadata": {},
   "outputs": [],
   "source": [
    "X1 = df_processed.drop(['discountpercent','recurring_discountpercent','opportunity_budget','contract_term'],axis=1)\n",
    "Y1 = df_processed[['discountpercent','recurring_discountpercent']]"
   ]
  },
  {
   "cell_type": "markdown",
   "metadata": {},
   "source": [
    "### Split the data into training data and test data "
   ]
  },
  {
   "cell_type": "code",
   "execution_count": null,
   "metadata": {},
   "outputs": [],
   "source": [
    "trainX, testX, trainY, testY = train_test_split(X1, Y1, test_size=0.3)"
   ]
  },
  {
   "cell_type": "markdown",
   "metadata": {},
   "source": [
    "## KFold Cross Validation - to decide which model performs better and also to prevent overfitting\n",
    "\n",
    "### Pipeline method is used for KFold Cross Validation based on negative mean squared error. \n",
    "### The model performace is judged based on standard deviation and mean"
   ]
  },
  {
   "cell_type": "code",
   "execution_count": null,
   "metadata": {},
   "outputs": [],
   "source": [
    "pipelines = []\n",
    "pipelines.append(('ScaledLR', Pipeline([('Scaler', StandardScaler()),('LR',LinearRegression())])))\n",
    "pipelines.append(('ScaledLASSO', Pipeline([('Scaler', StandardScaler()),('LASSO', Lasso())])))\n",
    "pipelines.append(('ScaledEN', Pipeline([('Scaler', StandardScaler()),('EN', ElasticNet())])))\n",
    "pipelines.append(('ScaledLG', Pipeline([('Scaler', StandardScaler()),('LG',LogisticRegression())])))\n",
    "pipelines.append(('ScaledKNN', Pipeline([('Scaler', StandardScaler()),('KNN', KNeighborsRegressor())])))\n",
    "pipelines.append(('ScaledCART', Pipeline([('Scaler', StandardScaler()),('CART', DecisionTreeRegressor())])))\n",
    "pipelines.append(('ScaledRFRT', Pipeline([('Scaler', StandardScaler()),('RFRT', RandomForestRegressor())])))\n",
    "pipelines.append(('ScaledGBM', Pipeline([('Scaler', StandardScaler()),('GBM', GradientBoostingRegressor())])))\n",
    "\n",
    "results = []\n",
    "names = []\n",
    "for name, model in pipelines:\n",
    "    kfold = KFold(n_splits=10, random_state=0)\n",
    "    cv_results = cross_val_score(model, trainX, (trainY.iloc[:,0]).astype(int), cv=kfold, scoring='neg_mean_squared_error')\n",
    "    results.append(cv_results)\n",
    "    names.append(name)\n",
    "    msg = \"%s: %f (%f)\" % (name, cv_results.mean(), cv_results.std())\n",
    "    print(msg)"
   ]
  },
  {
   "cell_type": "markdown",
   "metadata": {},
   "source": [
    "### The outputs of each model are as below - \n",
    "#### Linear Regression = -293.802154 (11.930265)\n",
    "#### Lasso Regression = -301.454122 (14.369864)\n",
    "#### Elastic Net Regression = -310.448764 (14.441288)\n",
    "#### Decision Tree Regression = -11.019956 (2.823359)\n",
    "#### Random Forest Regression = -7.274902 (2.840953)\n",
    "#### Gradient Boosting Regression = -38.063820 (4.331756)\n",
    "\n",
    "#### => As Random Forest Regression has the lowest value = -7.27 comparatively, hence we go ahead to build the model using Random Forest Regression."
   ]
  },
  {
   "cell_type": "code",
   "execution_count": null,
   "metadata": {},
   "outputs": [],
   "source": [
    "regrf = RandomForestRegressor(n_estimators=200, random_state=0, max_features=\"sqrt\")\n",
    "RF = regrf.fit(trainX, (trainY.iloc[:,0]).astype(int))"
   ]
  },
  {
   "cell_type": "markdown",
   "metadata": {},
   "source": [
    "### Calculated Mean Squared Error = 13.81"
   ]
  },
  {
   "cell_type": "code",
   "execution_count": null,
   "metadata": {},
   "outputs": [],
   "source": [
    "print(mean_squared_error((testY.iloc[:,0]).astype(int), regrf.predict(testX)))"
   ]
  },
  {
   "cell_type": "markdown",
   "metadata": {},
   "source": [
    "### Calculated Mean Absolute Error = 0.4648"
   ]
  },
  {
   "cell_type": "code",
   "execution_count": null,
   "metadata": {},
   "outputs": [],
   "source": [
    "print(mean_absolute_error((testY.iloc[:,0]).astype(int), regrf.predict(testX)))"
   ]
  },
  {
   "cell_type": "markdown",
   "metadata": {},
   "source": [
    "### Calculated R-Squared Value = 0.962"
   ]
  },
  {
   "cell_type": "code",
   "execution_count": null,
   "metadata": {},
   "outputs": [],
   "source": [
    "print(r2_score((testY.iloc[:,0]).astype(int), regrf.predict(testX)))"
   ]
  },
  {
   "cell_type": "markdown",
   "metadata": {},
   "source": [
    "## As target 'recurring_discountpercent' highly depends on the previously predicted 'discountpercent', hence it is passed to train the next model to predict 'recurring_discountpercent'"
   ]
  },
  {
   "cell_type": "code",
   "execution_count": null,
   "metadata": {},
   "outputs": [],
   "source": [
    "testX['predicted_discount'] = regrf.predict(testX)\n",
    "X2 = testX\n",
    "Y2 = testY.iloc[:,1]"
   ]
  },
  {
   "cell_type": "code",
   "execution_count": null,
   "metadata": {},
   "outputs": [],
   "source": [
    "trainX2, testX2, trainY2, testY2 = train_test_split(X2, Y2, test_size=0.3)"
   ]
  },
  {
   "cell_type": "markdown",
   "metadata": {},
   "source": [
    "## Random Forest Regression is used to predict 'recurring_discountpercent'"
   ]
  },
  {
   "cell_type": "code",
   "execution_count": null,
   "metadata": {},
   "outputs": [],
   "source": [
    "regrf2=RandomForestRegressor(n_estimators=200, max_depth=None, max_features=\"sqrt\")\n",
    "RF2 = regrf2.fit(trainX2, trainY2.astype(int))"
   ]
  },
  {
   "cell_type": "markdown",
   "metadata": {},
   "source": [
    "### Calculated Mean Squared Error = 9248.86"
   ]
  },
  {
   "cell_type": "code",
   "execution_count": null,
   "metadata": {},
   "outputs": [],
   "source": [
    "print (mean_squared_error(testY2.astype(int), regrf2.predict(testX2)))"
   ]
  },
  {
   "cell_type": "markdown",
   "metadata": {},
   "source": [
    "### Calculated Mean Absolute Error = 1.7842"
   ]
  },
  {
   "cell_type": "code",
   "execution_count": null,
   "metadata": {},
   "outputs": [],
   "source": [
    "print(mean_absolute_error(testY2.astype(int), regrf2.predict(testX2)))"
   ]
  },
  {
   "cell_type": "markdown",
   "metadata": {},
   "source": [
    "### Calculated R-Squared Value = 0.717"
   ]
  },
  {
   "cell_type": "code",
   "execution_count": null,
   "metadata": {},
   "outputs": [],
   "source": [
    "print(r2_score(testY2.astype(int), regrf2.predict(testX2)))"
   ]
  },
  {
   "cell_type": "markdown",
   "metadata": {},
   "source": [
    "## Future Directions\n",
    "\n",
    "### Use other column values such as 'recurring_net_price', 'net_price', etc to predict 'recurring_discountpercent'\n",
    "### Further can analyze the data and accordingly can select features which help the accuracy, also keeping in mind  about the overfitting\n",
    "\n"
   ]
  }
 ],
 "metadata": {
  "kernelspec": {
   "display_name": "Python 3",
   "language": "python",
   "name": "python3"
  },
  "language_info": {
   "codemirror_mode": {
    "name": "ipython",
    "version": 3
   },
   "file_extension": ".py",
   "mimetype": "text/x-python",
   "name": "python",
   "nbconvert_exporter": "python",
   "pygments_lexer": "ipython3",
   "version": "3.7.1"
  }
 },
 "nbformat": 4,
 "nbformat_minor": 2
}
